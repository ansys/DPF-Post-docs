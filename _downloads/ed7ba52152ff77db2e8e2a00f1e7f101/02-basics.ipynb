{
  "cells": [
    {
      "cell_type": "code",
      "execution_count": null,
      "metadata": {
        "collapsed": false
      },
      "outputs": [],
      "source": [
        "%matplotlib inline"
      ]
    },
    {
      "cell_type": "markdown",
      "metadata": {},
      "source": [
        "ANSYS DPF Basic Features of the POST API {#ref_basics}\n========================================\n\nThis tutorial shows how to get a result object from `ansys.dpf.post` and\nits basic usage.\n"
      ]
    },
    {
      "cell_type": "markdown",
      "metadata": {},
      "source": [
        "**Get started**\n"
      ]
    },
    {
      "cell_type": "code",
      "execution_count": null,
      "metadata": {
        "collapsed": false
      },
      "outputs": [],
      "source": [
        "from ansys.dpf import post\nfrom ansys.dpf.post import examples"
      ]
    },
    {
      "cell_type": "markdown",
      "metadata": {},
      "source": [
        "**Get the solution object**: must be instantiated with the result\nfilepath\n"
      ]
    },
    {
      "cell_type": "code",
      "execution_count": null,
      "metadata": {
        "collapsed": false
      },
      "outputs": [],
      "source": [
        "example_path = examples.download_all_kinds_of_complexity()\nsolution = post.load_solution(example_path)"
      ]
    },
    {
      "cell_type": "markdown",
      "metadata": {},
      "source": [
        "**Get a displacement result from the result object** First will be\ncreated a displacement result.\n"
      ]
    },
    {
      "cell_type": "code",
      "execution_count": null,
      "metadata": {
        "collapsed": false
      },
      "outputs": [],
      "source": [
        "displacement_result = solution.displacement()\ndisplacement = displacement_result.vector"
      ]
    },
    {
      "cell_type": "markdown",
      "metadata": {},
      "source": [
        "**Use the displacement result**\n"
      ]
    },
    {
      "cell_type": "code",
      "execution_count": null,
      "metadata": {
        "collapsed": false
      },
      "outputs": [],
      "source": [
        "displacement.num_fields\ndisp_data = displacement.get_data_at_field(0)\nlen(disp_data)\n\ndisp_data[1]\n\ndisplacement.max_data\ndisplacement.get_max_data_at_field(0)\n\ndisplacement.min_data"
      ]
    },
    {
      "cell_type": "markdown",
      "metadata": {},
      "source": [
        "**Get a stress result from the result object (nodal or elemental\nlocation)**\n"
      ]
    },
    {
      "cell_type": "code",
      "execution_count": null,
      "metadata": {
        "collapsed": false
      },
      "outputs": [],
      "source": [
        "el_stress_result = solution.stress(location=post.locations.elemental)\nnod_stress_result = solution.stress(\n    location=post.locations.nodal\n)  # note: the default location is nodal\n\nel_stress = el_stress_result.tensor\nnod_stress = nod_stress_result.tensor\n\nel_field = el_stress[0]\nel_field.location\n\nnod_field = nod_stress[0]\nnod_field.location\n\nel_stress.get_max_data_at_field(0)"
      ]
    }
  ],
  "metadata": {
    "kernelspec": {
      "display_name": "Python 3",
      "language": "python",
      "name": "python3"
    },
    "language_info": {
      "codemirror_mode": {
        "name": "ipython",
        "version": 3
      },
      "file_extension": ".py",
      "mimetype": "text/x-python",
      "name": "python",
      "nbconvert_exporter": "python",
      "pygments_lexer": "ipython3",
      "version": "3.8.13"
    }
  },
  "nbformat": 4,
  "nbformat_minor": 0
}