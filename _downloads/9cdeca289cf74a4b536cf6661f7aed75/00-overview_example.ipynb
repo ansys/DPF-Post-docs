{
  "cells": [
    {
      "cell_type": "code",
      "execution_count": null,
      "metadata": {
        "collapsed": false
      },
      "outputs": [],
      "source": [
        "%matplotlib inline"
      ]
    },
    {
      "cell_type": "markdown",
      "metadata": {},
      "source": [
        "ANSYS DPF Overview of the POST API {#ref_overview_example}\n==================================\n\nThis tutorial shows quickly how to use the DPF-POST API. For more\ndetails, you can read the detailed tutorials in the examples gallery.\n"
      ]
    },
    {
      "cell_type": "markdown",
      "metadata": {},
      "source": [
        "Start ansys.post module\n=======================\n\nHere we load the post module.\n"
      ]
    },
    {
      "cell_type": "code",
      "execution_count": null,
      "metadata": {
        "collapsed": false
      },
      "outputs": [],
      "source": [
        "from ansys.dpf import post"
      ]
    },
    {
      "cell_type": "markdown",
      "metadata": {},
      "source": [
        "Prepare a solution object\n=========================\n\nWe will first get the solution object that allows to access the result.\nIt must be instantiated with the result filepath like\n`\"C:/Users/user/my_result.rst\"` or on Linux `\"/home/user/my_result.rst\"`\n\nIn this example, we use a built-in example included with this module,\nwhich you can get by importing the examples module from `ansys.dpf.post`\n"
      ]
    },
    {
      "cell_type": "code",
      "execution_count": null,
      "metadata": {
        "collapsed": false
      },
      "outputs": [],
      "source": [
        "from ansys.dpf.post import examples\n\nsolution = post.load_solution(examples.multishells_rst)"
      ]
    },
    {
      "cell_type": "markdown",
      "metadata": {},
      "source": [
        "Get the mesh and the time\\_freq\\_support\n========================================\n\nThe mesh is the support of the model. The time freq support is the\ntime/frequence representation of the model.\n"
      ]
    },
    {
      "cell_type": "code",
      "execution_count": null,
      "metadata": {
        "collapsed": false
      },
      "outputs": [],
      "source": [
        "mesh = solution.mesh\ntime_freq_support = solution.time_freq_support"
      ]
    },
    {
      "cell_type": "markdown",
      "metadata": {},
      "source": [
        "Get a result object from the solution object\n============================================\n\nThe result can be: stress, plastic\\_strain, elastic\\_strain,\ntemperature, displacement).\n"
      ]
    },
    {
      "cell_type": "code",
      "execution_count": null,
      "metadata": {
        "collapsed": false
      },
      "outputs": [],
      "source": [
        "post.print_available_keywords()\nstress = solution.stress(location=post.locations.nodal, time_scoping=[1])\n\n# both the location and time_scoping are available in the definition of\n# the stress result\nstress.definition.location\nstress.definition.time_scoping\n\nprint(stress)"
      ]
    },
    {
      "cell_type": "markdown",
      "metadata": {},
      "source": [
        "Compute data\n============\n\nHere is shown how to get a subresult such as SX, the stress tensor in\nthe XX direction.\n\n**SX subresult**\n"
      ]
    },
    {
      "cell_type": "code",
      "execution_count": null,
      "metadata": {
        "collapsed": false
      },
      "outputs": [],
      "source": [
        "sx = stress.xx\nsx.num_fields\nsx_field = sx[0]\nsx_data = sx.get_data_at_field(0)\nprint(\"Length of the data:\", len(sx_data))\nprint()\nprint(\"Maximum Stress Field:\\n\", sx.max)\nprint()\nprint(\"Maximum data at stress field:\", sx.max_data)\nprint(\"Maximum SX at Field 0:\", sx.get_max_data_at_field(0))"
      ]
    },
    {
      "cell_type": "markdown",
      "metadata": {},
      "source": [
        "**Stress tensor result** Here we get the minimum and maximum stresses at\na field for all directions, including \\'XX\\', \\'XY, \\'XZ\\', \\'XY\\',\n\\'YZ\\', and \\'XZ\\'.\n"
      ]
    },
    {
      "cell_type": "code",
      "execution_count": null,
      "metadata": {
        "collapsed": false
      },
      "outputs": [],
      "source": [
        "s = stress.tensor\ns_field = s[0]\ns_data = sx.get_data_at_field(0)\nprint(\"Length of the data:\", len(s_data))\nprint()\nprint(\"Maximum Stress Field:\\n\", s.max)\nprint()\nprint(\"Maximum data at stress field:\", s.max_data)\nprint(\"Maximum Stress Tensors at Field 0:\\n\", s.get_max_data_at_field(0))\n\nprint(\"Minimum Stress Field:\\n\", s.min)\nprint()\nprint(\"Minimum data at stress field:\", s.min_data)\nprint(\"Minimum Stress Tensors at Field 0:\\n\", s.get_min_data_at_field(0))"
      ]
    },
    {
      "cell_type": "markdown",
      "metadata": {},
      "source": [
        "Display a result\n================\n\nUse \\<subresult\\>.plot\\_contour() to plot a result.\n"
      ]
    },
    {
      "cell_type": "code",
      "execution_count": null,
      "metadata": {
        "collapsed": false
      },
      "outputs": [],
      "source": [
        "s.plot_contour()"
      ]
    }
  ],
  "metadata": {
    "kernelspec": {
      "display_name": "Python 3",
      "language": "python",
      "name": "python3"
    },
    "language_info": {
      "codemirror_mode": {
        "name": "ipython",
        "version": 3
      },
      "file_extension": ".py",
      "mimetype": "text/x-python",
      "name": "python",
      "nbconvert_exporter": "python",
      "pygments_lexer": "ipython3",
      "version": "3.7.12"
    }
  },
  "nbformat": 4,
  "nbformat_minor": 0
}