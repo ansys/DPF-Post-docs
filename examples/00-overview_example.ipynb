{
 "cells": [
  {
   "cell_type": "code",
   "execution_count": null,
   "metadata": {
    "collapsed": false,
    "jupyter": {
     "outputs_hidden": false
    }
   },
   "outputs": [],
   "source": [
    "%matplotlib inline"
   ]
  },
  {
   "cell_type": "markdown",
   "metadata": {},
   "source": [
    "ANSYS DPF Overview of the POST API {#ref_overview_example}\n",
    "==================================\n",
    "\n",
    "This tutorial shows quickly how to use the DPF-POST API. For more\n",
    "details, you can read the detailed tutorials in the examples gallery.\n"
   ]
  },
  {
   "cell_type": "markdown",
   "metadata": {},
   "source": [
    "Start ansys.post module\n",
    "=======================\n",
    "\n",
    "Here we load the post module.\n"
   ]
  },
  {
   "cell_type": "code",
   "execution_count": null,
   "metadata": {
    "collapsed": false,
    "jupyter": {
     "outputs_hidden": false
    }
   },
   "outputs": [],
   "source": [
    "from ansys.dpf import post\n",
    "from ansys.dpf import core as dpf\n",
    "from ansys.jupyterhub.manager import spawn_dpf, delete_pod\n",
    "\n",
    "server, pod_name = spawn_dpf()"
   ]
  },
  {
   "cell_type": "markdown",
   "metadata": {},
   "source": [
    "Prepare a solution object\n",
    "=========================\n",
    "\n",
    "We will first get the solution object that allows to access the result.\n",
    "It must be instantiated with the result filepath like\n",
    "`\"C:/Users/user/my_result.rst\"` or on Linux `\"/home/user/my_result.rst\"`\n",
    "\n",
    "In this example, we use a built-in example included with this module,\n",
    "which you can get by importing the examples module from `ansys.dpf.post`\n"
   ]
  },
  {
   "cell_type": "code",
   "execution_count": null,
   "metadata": {
    "collapsed": false,
    "jupyter": {
     "outputs_hidden": false
    }
   },
   "outputs": [],
   "source": [
    "from ansys.dpf.post import examples\n",
    "\n",
    "local_file = examples.multishells_rst\n",
    "server_file_path = dpf.upload_file_in_tmp_folder(local_file, server=server)\n",
    "solution = post.load_solution(server_file_path)"
   ]
  },
  {
   "cell_type": "markdown",
   "metadata": {},
   "source": [
    "Get the mesh and the time\\_freq\\_support\n",
    "========================================\n",
    "\n",
    "The mesh is the support of the model. The time freq support is the\n",
    "time/frequence representation of the model.\n"
   ]
  },
  {
   "cell_type": "code",
   "execution_count": null,
   "metadata": {
    "collapsed": false,
    "jupyter": {
     "outputs_hidden": false
    }
   },
   "outputs": [],
   "source": [
    "mesh = solution.mesh\n",
    "time_freq_support = solution.time_freq_support"
   ]
  },
  {
   "cell_type": "markdown",
   "metadata": {},
   "source": [
    "Get a result object from the solution object\n",
    "============================================\n",
    "\n",
    "The result can be: stress, plastic\\_strain, elastic\\_strain,\n",
    "temperature, displacement).\n"
   ]
  },
  {
   "cell_type": "code",
   "execution_count": null,
   "metadata": {
    "collapsed": false,
    "jupyter": {
     "outputs_hidden": false
    }
   },
   "outputs": [],
   "source": [
    "post.print_available_keywords()\n",
    "stress = solution.stress(location=post.locations.nodal, time_scoping=[1])\n",
    "\n",
    "# both the location and time_scoping are available in the definition of\n",
    "# the stress result\n",
    "stress.definition.location\n",
    "stress.definition.time_scoping\n",
    "\n",
    "print(stress)"
   ]
  },
  {
   "cell_type": "markdown",
   "metadata": {},
   "source": [
    "Compute data\n",
    "============\n",
    "\n",
    "Here is shown how to get a subresult such as SX, the stress tensor in\n",
    "the XX direction.\n",
    "\n",
    "**SX subresult**\n"
   ]
  },
  {
   "cell_type": "code",
   "execution_count": null,
   "metadata": {
    "collapsed": false,
    "jupyter": {
     "outputs_hidden": false
    }
   },
   "outputs": [],
   "source": [
    "sx = stress.xx\n",
    "sx.num_fields\n",
    "sx_field = sx[0]\n",
    "sx_data = sx.get_data_at_field(0)\n",
    "print(\"Length of the data:\", len(sx_data))\n",
    "print()\n",
    "print(\"Maximum Stress Field:\\n\", sx.max)\n",
    "print()\n",
    "print(\"Maximum data at stress field:\", sx.max_data)\n",
    "print(\"Maximum SX at Field 0:\", sx.get_max_data_at_field(0))"
   ]
  },
  {
   "cell_type": "markdown",
   "metadata": {},
   "source": [
    "**Stress tensor result** Here we get the minimum and maximum stresses at\n",
    "a field for all directions, including \\'XX\\', \\'XY, \\'XZ\\', \\'XY\\',\n",
    "\\'YZ\\', and \\'XZ\\'.\n"
   ]
  },
  {
   "cell_type": "code",
   "execution_count": null,
   "metadata": {
    "collapsed": false,
    "jupyter": {
     "outputs_hidden": false
    }
   },
   "outputs": [],
   "source": [
    "s = stress.tensor\n",
    "s_field = s[0]\n",
    "s_data = sx.get_data_at_field(0)\n",
    "print(\"Length of the data:\", len(s_data))\n",
    "print()\n",
    "print(\"Maximum Stress Field:\\n\", s.max)\n",
    "print()\n",
    "print(\"Maximum data at stress field:\", s.max_data)\n",
    "print(\"Maximum Stress Tensors at Field 0:\\n\", s.get_max_data_at_field(0))\n",
    "\n",
    "print(\"Minimum Stress Field:\\n\", s.min)\n",
    "print()\n",
    "print(\"Minimum data at stress field:\", s.min_data)\n",
    "print(\"Minimum Stress Tensors at Field 0:\\n\", s.get_min_data_at_field(0))"
   ]
  },
  {
   "cell_type": "markdown",
   "metadata": {},
   "source": [
    "Display a result\n",
    "================\n",
    "\n",
    "Use \\<subresult\\>.plot\\_contour() to plot a result.\n"
   ]
  },
  {
   "cell_type": "code",
   "execution_count": null,
   "metadata": {
    "collapsed": false,
    "jupyter": {
     "outputs_hidden": false
    }
   },
   "outputs": [],
   "source": [
    "s.plot_contour()"
   ]
  },
  {
   "cell_type": "code",
   "execution_count": null,
   "metadata": {},
   "outputs": [],
   "source": [
    "delete_pod(pod_name)"
   ]
  },
  {
   "cell_type": "code",
   "execution_count": null,
   "metadata": {},
   "outputs": [],
   "source": []
  }
 ],
 "metadata": {
  "kernelspec": {
   "display_name": "Python 3 (ipykernel)",
   "language": "python",
   "name": "python3"
  },
  "language_info": {
   "codemirror_mode": {
    "name": "ipython",
    "version": 3
   },
   "file_extension": ".py",
   "mimetype": "text/x-python",
   "name": "python",
   "nbconvert_exporter": "python",
   "pygments_lexer": "ipython3",
   "version": "3.9.7"
  }
 },
 "nbformat": 4,
 "nbformat_minor": 4
}
