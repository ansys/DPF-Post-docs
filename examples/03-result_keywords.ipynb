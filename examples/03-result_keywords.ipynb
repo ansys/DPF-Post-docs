{
 "cells": [
  {
   "cell_type": "code",
   "execution_count": null,
   "metadata": {
    "collapsed": false,
    "jupyter": {
     "outputs_hidden": false
    }
   },
   "outputs": [],
   "source": [
    "%matplotlib inline"
   ]
  },
  {
   "cell_type": "markdown",
   "metadata": {},
   "source": [
    "Use result keywords {#ref_result_keywords}\n",
    "==================================\n",
    "\n",
    "This tutorial shows how to get more precise result with keywords while\n",
    "calling a result from a solution object.\n"
   ]
  },
  {
   "cell_type": "markdown",
   "metadata": {},
   "source": [
    "**Get started**\n"
   ]
  },
  {
   "cell_type": "code",
   "execution_count": null,
   "metadata": {
    "collapsed": false,
    "jupyter": {
     "outputs_hidden": false
    }
   },
   "outputs": [],
   "source": [
    "from ansys.dpf import post\n",
    "from ansys.dpf import core as dpf\n",
    "from ansys.dpf.post import examples\n",
    "from ansys.jupyterhub.manager import spawn_dpf, delete_pod"
   ]
  },
  {
   "cell_type": "markdown",
   "metadata": {},
   "source": [
    "**Get the solution object**\n"
   ]
  },
  {
   "cell_type": "code",
   "execution_count": null,
   "metadata": {
    "collapsed": false,
    "jupyter": {
     "outputs_hidden": false
    }
   },
   "outputs": [],
   "source": [
    "server, pod_name = spawn_dpf()\n",
    "local_file = examples.multishells_rst\n",
    "server_file_path = dpf.upload_file_in_tmp_folder(local_file, server=server)\n",
    "solution = post.load_solution(server_file_path)"
   ]
  },
  {
   "cell_type": "markdown",
   "metadata": {},
   "source": [
    "**Get the keyword list**\n"
   ]
  },
  {
   "cell_type": "code",
   "execution_count": null,
   "metadata": {
    "collapsed": false,
    "jupyter": {
     "outputs_hidden": false
    }
   },
   "outputs": [],
   "source": [
    "post.print_available_keywords()"
   ]
  },
  {
   "cell_type": "markdown",
   "metadata": {},
   "source": [
    "**Use a scoping on result**\n"
   ]
  },
  {
   "cell_type": "code",
   "execution_count": null,
   "metadata": {
    "collapsed": false,
    "jupyter": {
     "outputs_hidden": false
    }
   },
   "outputs": [],
   "source": [
    "# default location is nodal\n",
    "displacement_result = solution.displacement(\n",
    "    location=post.locations.nodal, node_scoping=[1, 2, 3]\n",
    ")\n",
    "displacement = displacement_result.vector\n",
    "\n",
    "displacement.get_data_at_field(0)\n",
    "\n",
    "stress_with_elem_scop_result = solution.stress(\n",
    "    location=post.locations.elemental_nodal, element_scoping=[1]\n",
    ")\n",
    "stress_with_elem_scop = stress_with_elem_scop_result.tensor\n",
    "\n",
    "stress_with_elem_scop.get_data_at_field(0)"
   ]
  },
  {
   "cell_type": "markdown",
   "metadata": {},
   "source": [
    "**Use a named selection on result**\n"
   ]
  },
  {
   "cell_type": "code",
   "execution_count": null,
   "metadata": {
    "collapsed": false,
    "jupyter": {
     "outputs_hidden": false
    }
   },
   "outputs": [],
   "source": [
    "stress_on_ns_result = solution.stress(\n",
    "    location=post.locations.elemental_nodal, named_selection=\"SELECTION\"\n",
    ")\n",
    "stress_on_ns = stress_on_ns_result.tensor\n",
    "stress_on_ns.num_fields\n",
    "\n",
    "len(stress_on_ns[0])"
   ]
  },
  {
   "cell_type": "markdown",
   "metadata": {},
   "source": [
    "**Get a subresult**\n"
   ]
  },
  {
   "cell_type": "code",
   "execution_count": null,
   "metadata": {
    "collapsed": false,
    "jupyter": {
     "outputs_hidden": false
    }
   },
   "outputs": [],
   "source": [
    "disp_x = displacement_result.x\n",
    "\n",
    "stress_yz = stress_with_elem_scop_result.yz\n",
    "\n",
    "stress_principal_1 = stress_on_ns_result.principal_3\n",
    "stress_principal_1"
   ]
  },
  {
   "cell_type": "markdown",
   "metadata": {},
   "source": [
    "**Filter on a time / time\\_scoping / a set**\n"
   ]
  },
  {
   "cell_type": "code",
   "execution_count": null,
   "metadata": {
    "collapsed": false,
    "jupyter": {
     "outputs_hidden": false
    }
   },
   "outputs": [],
   "source": [
    "print(solution.time_freq_support)\n",
    "\n",
    "stress_on_time_1s_result = solution.stress(time=1.0)\n",
    "stress_on_time_1s = stress_on_time_1s_result.tensor\n",
    "\n",
    "displacement_on_set_1_result = solution.displacement(set=1)\n",
    "displacement_on_set_1 = displacement_on_set_1_result.vector\n",
    "\n",
    "elastic_strain_with_time_scoping_result = solution.elastic_strain(time_scoping=[1, 3])\n",
    "elastic_strain_with_time_scoping = elastic_strain_with_time_scoping_result.tensor\n",
    "elastic_strain_with_time_scoping"
   ]
  },
  {
   "cell_type": "markdown",
   "metadata": {},
   "source": [
    "**Make a grouping**\n"
   ]
  },
  {
   "cell_type": "code",
   "execution_count": null,
   "metadata": {
    "collapsed": false,
    "jupyter": {
     "outputs_hidden": false
    }
   },
   "outputs": [],
   "source": [
    "displacement_result = solution.displacement(grouping=post.grouping.by_el_shape)\n",
    "displacement_by_el_shape = displacement_result.vector\n",
    "\n",
    "# filter only MAPDL elements of type solid 186\n",
    "stress_result = solution.stress(mapdl_grouping=186)\n",
    "stress_on_solid_186 = stress_result.tensor\n",
    "stress_on_solid_186"
   ]
  },
  {
   "cell_type": "markdown",
   "metadata": {},
   "source": [
    "**Manipulate the result object and change its definition**\n"
   ]
  },
  {
   "cell_type": "code",
   "execution_count": null,
   "metadata": {
    "collapsed": false,
    "jupyter": {
     "outputs_hidden": false
    }
   },
   "outputs": [],
   "source": [
    "print(stress_on_ns_result)\n",
    "print(stress_on_ns_result.definition.location)\n",
    "\n",
    "stress_on_ns_result.definition.location = post.locations.elemental\n",
    "stress_on_ns_result.definition.time = 1.0\n",
    "stress_on_ns_elemental = stress_on_ns_result.tensor\n",
    "\n",
    "print(stress_on_ns_result)"
   ]
  },
  {
   "cell_type": "markdown",
   "metadata": {},
   "source": [
    "**Use the misc. results** Same keywords can be used here. For complex\n",
    "result, the keyword \\\"phase\\\" (float) can also be used.\n"
   ]
  },
  {
   "cell_type": "code",
   "execution_count": null,
   "metadata": {
    "collapsed": false,
    "jupyter": {
     "outputs_hidden": false
    }
   },
   "outputs": [],
   "source": [
    "stress_ratio = solution.misc.elemental_stress_ratio(node_scoping=[1, 32], time=1.0)\n",
    "print(stress_ratio)"
   ]
  },
  {
   "cell_type": "code",
   "execution_count": null,
   "metadata": {},
   "outputs": [],
   "source": [
    "delete_pod(pod_name)"
   ]
  },
  {
   "cell_type": "code",
   "execution_count": null,
   "metadata": {},
   "outputs": [],
   "source": []
  }
 ],
 "metadata": {
  "kernelspec": {
   "display_name": "Python 3 (ipykernel)",
   "language": "python",
   "name": "python3"
  },
  "language_info": {
   "codemirror_mode": {
    "name": "ipython",
    "version": 3
   },
   "file_extension": ".py",
   "mimetype": "text/x-python",
   "name": "python",
   "nbconvert_exporter": "python",
   "pygments_lexer": "ipython3",
   "version": "3.9.7"
  }
 },
 "nbformat": 4,
 "nbformat_minor": 4
}
